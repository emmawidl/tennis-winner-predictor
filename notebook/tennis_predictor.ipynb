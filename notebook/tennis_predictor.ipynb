# 🧠 Tennis Tournament Winner Predictor - Notebook Version

import pandas as pd
import numpy as np
import random
from src.model import MatchPredictor
from src.data_loader import get_mock_players

# ----------------------------------------
# Step 1: Simulate Historical Match Data
# ----------------------------------------

def simulate_match_data(players, n_matches=200):
    data = []
    for _ in range(n_matches):
        p1, p2 = random.sample(players, 2)
        p1_features = [p1['elo'], p1['ranking'], p1['clay_win_pct']]
        p2_features = [p2['elo'], p2['ranking'], p2['clay_win_pct']]
        features = [a - b for a, b in zip(p1_features, p2_features)]
        outcome = 1 if p1['elo'] + random.randint(-50, 50) > p2['elo'] else 0
        data.append(features + [outcome])
    return pd.DataFrame(data, columns=['elo_diff', 'rank_diff', 'clay_win_pct_diff', 'winner'])

players = get_mock_players()
df = simulate_match_data(players)

# ----------------------------------------
# Step 2: Train the Model
# ----------------------------------------

predictor = MatchPredictor()
predictor.train(df)

# ----------------------------------------
# Step 3: Simulate Tournament
# ----------------------------------------

def simulate_round(matchups, round_name="Round"):
    print(f"\n🏆 {round_name} Results:")
    winners = []
    for p1, p2 in matchups:
        winner = p1 if predictor.predict(p1, p2) == 1 else p2
        print(f"{p1['name']} vs {p2['name']} --> Winner: {winner['name']}")
        winners.append(winner)
    return winners

# Round 1 (Quarterfinals)
round_1 = [(players[i], players[i+1]) for i in range(0, len(players), 2)]
semifinalists = simulate_round(round_1, "Quarterfinals")

# Semifinals
semifinals = [(semifinalists[i], semifinalists[i+1]) for i in range(0, len(semifinalists), 2)]
finalists = simulate_round(semifinals, "Semifinals")

# Final
final = [(finalists[0], finalists[1])]
champion = simulate_round(final, "Final")[0]

print(f"\n🏆🎉 Champion of Madrid Open (Simulated): {champion['name']}")
